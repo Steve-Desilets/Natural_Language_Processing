{
 "cells": [
  {
   "cell_type": "markdown",
   "id": "8a937d3a",
   "metadata": {},
   "source": [
    "# Appendix A - Supporting Python Code"
   ]
  },
  {
   "cell_type": "markdown",
   "id": "e746f225",
   "metadata": {},
   "source": [
    "## 1) Clustering"
   ]
  },
  {
   "cell_type": "markdown",
   "id": "fc4c23eb",
   "metadata": {},
   "source": [
    "### 1.1) Loading The Corpus"
   ]
  },
  {
   "cell_type": "code",
   "execution_count": null,
   "id": "9388c56c",
   "metadata": {},
   "outputs": [],
   "source": []
  },
  {
   "cell_type": "code",
   "execution_count": null,
   "id": "d2e0e807",
   "metadata": {},
   "outputs": [],
   "source": []
  },
  {
   "cell_type": "code",
   "execution_count": null,
   "id": "724cd15c",
   "metadata": {},
   "outputs": [],
   "source": []
  },
  {
   "cell_type": "markdown",
   "id": "ca4ab750",
   "metadata": {},
   "source": [
    "### 1.2) Exploratory Data Analysis"
   ]
  },
  {
   "cell_type": "code",
   "execution_count": null,
   "id": "db7090cf",
   "metadata": {},
   "outputs": [],
   "source": []
  },
  {
   "cell_type": "code",
   "execution_count": null,
   "id": "195df271",
   "metadata": {},
   "outputs": [],
   "source": []
  },
  {
   "cell_type": "code",
   "execution_count": null,
   "id": "ada7b8fa",
   "metadata": {},
   "outputs": [],
   "source": []
  },
  {
   "cell_type": "markdown",
   "id": "12453bec",
   "metadata": {},
   "source": [
    "### 1.3) Data Wrangling "
   ]
  },
  {
   "cell_type": "code",
   "execution_count": null,
   "id": "5dd4c911",
   "metadata": {},
   "outputs": [],
   "source": []
  },
  {
   "cell_type": "code",
   "execution_count": null,
   "id": "5fafc35b",
   "metadata": {},
   "outputs": [],
   "source": []
  },
  {
   "cell_type": "code",
   "execution_count": null,
   "id": "ce26d236",
   "metadata": {},
   "outputs": [],
   "source": []
  },
  {
   "cell_type": "markdown",
   "id": "9663a2ab",
   "metadata": {},
   "source": [
    "### 1.4) Vectorization"
   ]
  },
  {
   "cell_type": "code",
   "execution_count": null,
   "id": "2127e8ab",
   "metadata": {},
   "outputs": [],
   "source": []
  },
  {
   "cell_type": "code",
   "execution_count": null,
   "id": "96cd6092",
   "metadata": {},
   "outputs": [],
   "source": []
  },
  {
   "cell_type": "code",
   "execution_count": null,
   "id": "8f6f8a57",
   "metadata": {},
   "outputs": [],
   "source": []
  },
  {
   "cell_type": "markdown",
   "id": "2b65c3a7",
   "metadata": {},
   "source": [
    "### 1.5) Clustering Experiments"
   ]
  },
  {
   "cell_type": "markdown",
   "id": "957749dc",
   "metadata": {},
   "source": [
    "#### 1.5.1) K-Means Clustering Experiments"
   ]
  },
  {
   "cell_type": "code",
   "execution_count": null,
   "id": "bcc07c04",
   "metadata": {},
   "outputs": [],
   "source": []
  },
  {
   "cell_type": "code",
   "execution_count": null,
   "id": "1b1ce937",
   "metadata": {},
   "outputs": [],
   "source": []
  },
  {
   "cell_type": "code",
   "execution_count": null,
   "id": "9ccaeb59",
   "metadata": {},
   "outputs": [],
   "source": []
  },
  {
   "cell_type": "markdown",
   "id": "0ab0ff3e",
   "metadata": {},
   "source": [
    "#### 1.5.2) Hierarchical Clustering Experiments"
   ]
  },
  {
   "cell_type": "code",
   "execution_count": null,
   "id": "f2331078",
   "metadata": {},
   "outputs": [],
   "source": []
  },
  {
   "cell_type": "code",
   "execution_count": null,
   "id": "82e512ec",
   "metadata": {},
   "outputs": [],
   "source": []
  },
  {
   "cell_type": "code",
   "execution_count": null,
   "id": "0b309083",
   "metadata": {},
   "outputs": [],
   "source": []
  },
  {
   "cell_type": "markdown",
   "id": "f954b7ac",
   "metadata": {},
   "source": [
    "#### 1.5.3) DBSCAN Clustering Experiments"
   ]
  },
  {
   "cell_type": "code",
   "execution_count": null,
   "id": "1989ea6e",
   "metadata": {},
   "outputs": [],
   "source": []
  },
  {
   "cell_type": "code",
   "execution_count": null,
   "id": "c00cb259",
   "metadata": {},
   "outputs": [],
   "source": []
  },
  {
   "cell_type": "code",
   "execution_count": null,
   "id": "f6e10c21",
   "metadata": {},
   "outputs": [],
   "source": []
  },
  {
   "cell_type": "markdown",
   "id": "33943f7c",
   "metadata": {},
   "source": [
    "## 2) Sentiment Analysis"
   ]
  },
  {
   "cell_type": "markdown",
   "id": "6058604c",
   "metadata": {},
   "source": [
    "### 2.1) Random Forest Classifier Experiments"
   ]
  },
  {
   "cell_type": "code",
   "execution_count": null,
   "id": "e252cb22",
   "metadata": {},
   "outputs": [],
   "source": []
  },
  {
   "cell_type": "code",
   "execution_count": null,
   "id": "fcb04b71",
   "metadata": {},
   "outputs": [],
   "source": []
  },
  {
   "cell_type": "code",
   "execution_count": null,
   "id": "87cdc5c3",
   "metadata": {},
   "outputs": [],
   "source": []
  },
  {
   "cell_type": "markdown",
   "id": "dab6d458",
   "metadata": {},
   "source": [
    "### 2.2) Naive Bayes Classifier Experiments"
   ]
  },
  {
   "cell_type": "code",
   "execution_count": null,
   "id": "dbcbeceb",
   "metadata": {},
   "outputs": [],
   "source": []
  },
  {
   "cell_type": "code",
   "execution_count": null,
   "id": "c9fd6e5a",
   "metadata": {},
   "outputs": [],
   "source": []
  },
  {
   "cell_type": "code",
   "execution_count": null,
   "id": "610dea56",
   "metadata": {},
   "outputs": [],
   "source": []
  },
  {
   "cell_type": "markdown",
   "id": "e33dbfd6",
   "metadata": {},
   "source": [
    "### 2.3) Support Vector Machine Experiments"
   ]
  },
  {
   "cell_type": "code",
   "execution_count": null,
   "id": "83178fed",
   "metadata": {},
   "outputs": [],
   "source": []
  },
  {
   "cell_type": "code",
   "execution_count": null,
   "id": "96170766",
   "metadata": {},
   "outputs": [],
   "source": []
  },
  {
   "cell_type": "code",
   "execution_count": null,
   "id": "7539b90c",
   "metadata": {},
   "outputs": [],
   "source": []
  },
  {
   "cell_type": "markdown",
   "id": "79124ad8",
   "metadata": {},
   "source": [
    "## 3) Multi-Class Classification"
   ]
  },
  {
   "cell_type": "markdown",
   "id": "de007756",
   "metadata": {},
   "source": [
    "### 3.1) Random Forest Classifier Experiments"
   ]
  },
  {
   "cell_type": "code",
   "execution_count": null,
   "id": "09294844",
   "metadata": {},
   "outputs": [],
   "source": []
  },
  {
   "cell_type": "code",
   "execution_count": null,
   "id": "76147014",
   "metadata": {},
   "outputs": [],
   "source": []
  },
  {
   "cell_type": "code",
   "execution_count": null,
   "id": "f5ef8ce7",
   "metadata": {},
   "outputs": [],
   "source": []
  },
  {
   "cell_type": "markdown",
   "id": "302e1127",
   "metadata": {},
   "source": [
    "### 3.2) Naive Bayes Classifier Experiments"
   ]
  },
  {
   "cell_type": "code",
   "execution_count": null,
   "id": "93c3f818",
   "metadata": {},
   "outputs": [],
   "source": []
  },
  {
   "cell_type": "code",
   "execution_count": null,
   "id": "ae6c708e",
   "metadata": {},
   "outputs": [],
   "source": []
  },
  {
   "cell_type": "code",
   "execution_count": null,
   "id": "6301554f",
   "metadata": {},
   "outputs": [],
   "source": []
  },
  {
   "cell_type": "markdown",
   "id": "72db8a66",
   "metadata": {},
   "source": [
    "### 3.3) Support Vector Machine Experiments"
   ]
  },
  {
   "cell_type": "code",
   "execution_count": null,
   "id": "acb2ca22",
   "metadata": {},
   "outputs": [],
   "source": []
  },
  {
   "cell_type": "code",
   "execution_count": null,
   "id": "29850b31",
   "metadata": {},
   "outputs": [],
   "source": []
  },
  {
   "cell_type": "code",
   "execution_count": null,
   "id": "7983581b",
   "metadata": {},
   "outputs": [],
   "source": []
  },
  {
   "cell_type": "markdown",
   "id": "8568e33d",
   "metadata": {},
   "source": [
    "## 4) Topic Modeling"
   ]
  },
  {
   "cell_type": "markdown",
   "id": "16c9379c",
   "metadata": {},
   "source": [
    "### 4.1) Latent Semantic Analysis Experiments"
   ]
  },
  {
   "cell_type": "code",
   "execution_count": null,
   "id": "e988d832",
   "metadata": {},
   "outputs": [],
   "source": []
  },
  {
   "cell_type": "code",
   "execution_count": null,
   "id": "b4b6051b",
   "metadata": {},
   "outputs": [],
   "source": []
  },
  {
   "cell_type": "code",
   "execution_count": null,
   "id": "8e69fa2e",
   "metadata": {},
   "outputs": [],
   "source": []
  },
  {
   "cell_type": "markdown",
   "id": "07284fa7",
   "metadata": {},
   "source": [
    "### 4.2) Latent Dirichlet Allocation Experiments"
   ]
  },
  {
   "cell_type": "code",
   "execution_count": null,
   "id": "cf366238",
   "metadata": {},
   "outputs": [],
   "source": []
  },
  {
   "cell_type": "code",
   "execution_count": null,
   "id": "ff0ff09f",
   "metadata": {},
   "outputs": [],
   "source": []
  },
  {
   "cell_type": "code",
   "execution_count": null,
   "id": "c13cb603",
   "metadata": {},
   "outputs": [],
   "source": []
  }
 ],
 "metadata": {
  "kernelspec": {
   "display_name": "Python 3 (ipykernel)",
   "language": "python",
   "name": "python3"
  },
  "language_info": {
   "codemirror_mode": {
    "name": "ipython",
    "version": 3
   },
   "file_extension": ".py",
   "mimetype": "text/x-python",
   "name": "python",
   "nbconvert_exporter": "python",
   "pygments_lexer": "ipython3",
   "version": "3.9.12"
  }
 },
 "nbformat": 4,
 "nbformat_minor": 5
}
