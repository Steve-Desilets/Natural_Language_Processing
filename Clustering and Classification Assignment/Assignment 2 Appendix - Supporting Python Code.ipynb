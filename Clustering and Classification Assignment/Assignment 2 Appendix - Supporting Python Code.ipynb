{
 "cells": [
  {
   "cell_type": "markdown",
   "id": "e667952a",
   "metadata": {},
   "source": [
    "# Appendix A - Supporting Python Code"
   ]
  },
  {
   "cell_type": "markdown",
   "id": "b71ee767",
   "metadata": {},
   "source": [
    "## 1) Clustering"
   ]
  },
  {
   "cell_type": "markdown",
   "id": "0e7e16c8",
   "metadata": {},
   "source": [
    "### 1.1) Loading The Corpus"
   ]
  },
  {
   "cell_type": "markdown",
   "id": "5c402482",
   "metadata": {},
   "source": [
    "Let's begin by importing our corpus - the dataset of moview reviews."
   ]
  },
  {
   "cell_type": "code",
   "execution_count": 3,
   "id": "b61347e0",
   "metadata": {},
   "outputs": [],
   "source": [
    "# Create corpus dataframe\n",
    "import pandas as pd\n",
    "import numpy as np\n",
    "from dataclasses import dataclass\n",
    "\n",
    "# Create Document class\n",
    "@dataclass\n",
    "class Document:\n",
    "    doc_id: str\n",
    "    text: str\n",
    "\n",
    "def add_movie_descriptor(data: pd.DataFrame, corpus_df: pd.DataFrame):\n",
    "    \"\"\"\n",
    "    Adds \"Movie Description\" to the supplied dataframe, in the form {Genre}_{P|N}_{Movie Title}_{DocID}\n",
    "    \"\"\"\n",
    "    review = np.where(corpus_df['Review Type (pos or neg)'] == 'Positive', 'P', 'N')\n",
    "    data['Descriptor'] = corpus_df['Genre of Movie'] + '_' + corpus_df['Movie Title'] + '_' + review + '_' + corpus_df['Doc_ID'].astype(str)\n",
    "\n",
    "def get_corpus_df(path):\n",
    "    data = pd.read_csv(path, encoding=\"utf-8\")\n",
    "    add_movie_descriptor(data, data)\n",
    "    sorted_data = data.sort_values(['Descriptor'])\n",
    "    indexed_data = sorted_data.set_index(['Doc_ID'])\n",
    "    indexed_data['Doc_ID'] = indexed_data.index\n",
    "    return indexed_data\n",
    "\n",
    "# Define documents in this new class\n",
    "corpus_df = get_corpus_df('MSDS453_ClassCorpus_Final_Sec56_v4_20230702.csv')\n",
    "documents = [Document(x, y) for x, y in zip(corpus_df.Doc_ID, corpus_df.Text)]"
   ]
  },
  {
   "cell_type": "markdown",
   "id": "085aa474",
   "metadata": {},
   "source": [
    "### 1.2) Exploratory Data Analysis"
   ]
  },
  {
   "cell_type": "markdown",
   "id": "8446ac19",
   "metadata": {},
   "source": [
    "Having imported the corpus of movie reviews, let's conduct exploratory data analysis on the raw dataset."
   ]
  },
  {
   "cell_type": "code",
   "execution_count": 4,
   "id": "0f3b5627",
   "metadata": {},
   "outputs": [
    {
     "data": {
      "text/plain": [
       "(190, 9)"
      ]
     },
     "execution_count": 4,
     "metadata": {},
     "output_type": "execute_result"
    }
   ],
   "source": [
    "corpus_df.shape"
   ]
  },
  {
   "cell_type": "code",
   "execution_count": 5,
   "id": "1f00c370",
   "metadata": {},
   "outputs": [
    {
     "data": {
      "text/html": [
       "<div>\n",
       "<style scoped>\n",
       "    .dataframe tbody tr th:only-of-type {\n",
       "        vertical-align: middle;\n",
       "    }\n",
       "\n",
       "    .dataframe tbody tr th {\n",
       "        vertical-align: top;\n",
       "    }\n",
       "\n",
       "    .dataframe thead th {\n",
       "        text-align: right;\n",
       "    }\n",
       "</style>\n",
       "<table border=\"1\" class=\"dataframe\">\n",
       "  <thead>\n",
       "    <tr style=\"text-align: right;\">\n",
       "      <th>Doc_ID</th>\n",
       "      <th>101</th>\n",
       "      <th>102</th>\n",
       "      <th>103</th>\n",
       "      <th>104</th>\n",
       "    </tr>\n",
       "  </thead>\n",
       "  <tbody>\n",
       "    <tr>\n",
       "      <th>DSI_Title</th>\n",
       "      <td>SAR_Doc1_Covenant</td>\n",
       "      <td>SAR_Doc2_Covenant</td>\n",
       "      <td>SAR_Doc3_Covenant</td>\n",
       "      <td>SAR_Doc4_Covenant</td>\n",
       "    </tr>\n",
       "    <tr>\n",
       "      <th>Submission File Name</th>\n",
       "      <td>SAR_Doc1_Covenant</td>\n",
       "      <td>SAR_Doc2_Covenant</td>\n",
       "      <td>SAR_Doc3_Covenant</td>\n",
       "      <td>SAR_Doc4_Covenant</td>\n",
       "    </tr>\n",
       "    <tr>\n",
       "      <th>Student Name</th>\n",
       "      <td>SAR</td>\n",
       "      <td>SAR</td>\n",
       "      <td>SAR</td>\n",
       "      <td>SAR</td>\n",
       "    </tr>\n",
       "    <tr>\n",
       "      <th>Genre of Movie</th>\n",
       "      <td>Action</td>\n",
       "      <td>Action</td>\n",
       "      <td>Action</td>\n",
       "      <td>Action</td>\n",
       "    </tr>\n",
       "    <tr>\n",
       "      <th>Review Type (pos or neg)</th>\n",
       "      <td>Negative</td>\n",
       "      <td>Negative</td>\n",
       "      <td>Negative</td>\n",
       "      <td>Negative</td>\n",
       "    </tr>\n",
       "    <tr>\n",
       "      <th>Movie Title</th>\n",
       "      <td>Covenant</td>\n",
       "      <td>Covenant</td>\n",
       "      <td>Covenant</td>\n",
       "      <td>Covenant</td>\n",
       "    </tr>\n",
       "    <tr>\n",
       "      <th>Text</th>\n",
       "      <td>Nearly two years after the American military w...</td>\n",
       "      <td>Have Guy Ritchie and Jake Gyllenhaal switched ...</td>\n",
       "      <td>Guy Ritchie's The Covenant notably marks the f...</td>\n",
       "      <td>In a weird throwback to those Chuck Norris \"Mi...</td>\n",
       "    </tr>\n",
       "    <tr>\n",
       "      <th>Descriptor</th>\n",
       "      <td>Action_Covenant_N_101</td>\n",
       "      <td>Action_Covenant_N_102</td>\n",
       "      <td>Action_Covenant_N_103</td>\n",
       "      <td>Action_Covenant_N_104</td>\n",
       "    </tr>\n",
       "    <tr>\n",
       "      <th>Doc_ID</th>\n",
       "      <td>101</td>\n",
       "      <td>102</td>\n",
       "      <td>103</td>\n",
       "      <td>104</td>\n",
       "    </tr>\n",
       "  </tbody>\n",
       "</table>\n",
       "</div>"
      ],
      "text/plain": [
       "Doc_ID                                                                  101  \\\n",
       "DSI_Title                                                 SAR_Doc1_Covenant   \n",
       "Submission File Name                                      SAR_Doc1_Covenant   \n",
       "Student Name                                                            SAR   \n",
       "Genre of Movie                                                       Action   \n",
       "Review Type (pos or neg)                                           Negative   \n",
       "Movie Title                                                        Covenant   \n",
       "Text                      Nearly two years after the American military w...   \n",
       "Descriptor                                            Action_Covenant_N_101   \n",
       "Doc_ID                                                                  101   \n",
       "\n",
       "Doc_ID                                                                  102  \\\n",
       "DSI_Title                                                 SAR_Doc2_Covenant   \n",
       "Submission File Name                                      SAR_Doc2_Covenant   \n",
       "Student Name                                                            SAR   \n",
       "Genre of Movie                                                       Action   \n",
       "Review Type (pos or neg)                                           Negative   \n",
       "Movie Title                                                        Covenant   \n",
       "Text                      Have Guy Ritchie and Jake Gyllenhaal switched ...   \n",
       "Descriptor                                            Action_Covenant_N_102   \n",
       "Doc_ID                                                                  102   \n",
       "\n",
       "Doc_ID                                                                  103  \\\n",
       "DSI_Title                                                 SAR_Doc3_Covenant   \n",
       "Submission File Name                                      SAR_Doc3_Covenant   \n",
       "Student Name                                                            SAR   \n",
       "Genre of Movie                                                       Action   \n",
       "Review Type (pos or neg)                                           Negative   \n",
       "Movie Title                                                        Covenant   \n",
       "Text                      Guy Ritchie's The Covenant notably marks the f...   \n",
       "Descriptor                                            Action_Covenant_N_103   \n",
       "Doc_ID                                                                  103   \n",
       "\n",
       "Doc_ID                                                                  104  \n",
       "DSI_Title                                                 SAR_Doc4_Covenant  \n",
       "Submission File Name                                      SAR_Doc4_Covenant  \n",
       "Student Name                                                            SAR  \n",
       "Genre of Movie                                                       Action  \n",
       "Review Type (pos or neg)                                           Negative  \n",
       "Movie Title                                                        Covenant  \n",
       "Text                      In a weird throwback to those Chuck Norris \"Mi...  \n",
       "Descriptor                                            Action_Covenant_N_104  \n",
       "Doc_ID                                                                  104  "
      ]
     },
     "execution_count": 5,
     "metadata": {},
     "output_type": "execute_result"
    }
   ],
   "source": [
    "corpus_df.head(4).T"
   ]
  },
  {
   "cell_type": "code",
   "execution_count": 6,
   "id": "4f688132",
   "metadata": {},
   "outputs": [
    {
     "name": "stdout",
     "output_type": "stream",
     "text": [
      "<class 'pandas.core.frame.DataFrame'>\n",
      "Int64Index: 190 entries, 101 to 217\n",
      "Data columns (total 9 columns):\n",
      " #   Column                    Non-Null Count  Dtype \n",
      "---  ------                    --------------  ----- \n",
      " 0   DSI_Title                 190 non-null    object\n",
      " 1   Submission File Name      190 non-null    object\n",
      " 2   Student Name              190 non-null    object\n",
      " 3   Genre of Movie            190 non-null    object\n",
      " 4   Review Type (pos or neg)  190 non-null    object\n",
      " 5   Movie Title               190 non-null    object\n",
      " 6   Text                      190 non-null    object\n",
      " 7   Descriptor                190 non-null    object\n",
      " 8   Doc_ID                    190 non-null    int64 \n",
      "dtypes: int64(1), object(8)\n",
      "memory usage: 14.8+ KB\n",
      "None\n"
     ]
    }
   ],
   "source": [
    "print(corpus_df.info());"
   ]
  },
  {
   "cell_type": "code",
   "execution_count": 7,
   "id": "d654eb17",
   "metadata": {},
   "outputs": [
    {
     "name": "stdout",
     "output_type": "stream",
     "text": [
      "['Covenant' 'Inception' 'No time to die' 'Taken' 'The Dark Knight Rises'\n",
      " 'Despicable Me 3' 'Holmes and Watson' 'Legally Blonde' 'Lost City'\n",
      " 'Sisters' 'Drag Me to Hell' 'Fresh' 'It Chapter Two' 'The Toxic Avenger'\n",
      " 'US' 'Annihilation' 'Minority Report' 'Oblivion' 'Pitch Black']\n"
     ]
    }
   ],
   "source": [
    "print(corpus_df['Movie Title'].unique())"
   ]
  },
  {
   "cell_type": "code",
   "execution_count": 8,
   "id": "e7eaacc3",
   "metadata": {},
   "outputs": [
    {
     "data": {
      "text/html": [
       "<div>\n",
       "<style scoped>\n",
       "    .dataframe tbody tr th:only-of-type {\n",
       "        vertical-align: middle;\n",
       "    }\n",
       "\n",
       "    .dataframe tbody tr th {\n",
       "        vertical-align: top;\n",
       "    }\n",
       "\n",
       "    .dataframe thead th {\n",
       "        text-align: right;\n",
       "    }\n",
       "</style>\n",
       "<table border=\"1\" class=\"dataframe\">\n",
       "  <thead>\n",
       "    <tr style=\"text-align: right;\">\n",
       "      <th></th>\n",
       "      <th>Genre of Movie</th>\n",
       "      <th>Count</th>\n",
       "    </tr>\n",
       "  </thead>\n",
       "  <tbody>\n",
       "    <tr>\n",
       "      <th>0</th>\n",
       "      <td>Action</td>\n",
       "      <td>50</td>\n",
       "    </tr>\n",
       "    <tr>\n",
       "      <th>1</th>\n",
       "      <td>Comedy</td>\n",
       "      <td>50</td>\n",
       "    </tr>\n",
       "    <tr>\n",
       "      <th>2</th>\n",
       "      <td>Horror</td>\n",
       "      <td>50</td>\n",
       "    </tr>\n",
       "    <tr>\n",
       "      <th>3</th>\n",
       "      <td>Sci-Fi</td>\n",
       "      <td>40</td>\n",
       "    </tr>\n",
       "  </tbody>\n",
       "</table>\n",
       "</div>"
      ],
      "text/plain": [
       "  Genre of Movie  Count\n",
       "0         Action     50\n",
       "1         Comedy     50\n",
       "2         Horror     50\n",
       "3         Sci-Fi     40"
      ]
     },
     "execution_count": 8,
     "metadata": {},
     "output_type": "execute_result"
    }
   ],
   "source": [
    "# Gather the number of reviews by genre\n",
    "counts_df = corpus_df[['Genre of Movie']].copy()\n",
    "counts_df['Count'] = 1\n",
    "counts_df.groupby(['Genre of Movie']).count().reset_index()"
   ]
  },
  {
   "cell_type": "code",
   "execution_count": 9,
   "id": "c5416bb8",
   "metadata": {},
   "outputs": [
    {
     "data": {
      "text/plain": [
       "Index(['DSI_Title', 'Submission File Name', 'Student Name', 'Genre of Movie',\n",
       "       'Review Type (pos or neg)', 'Movie Title', 'Text', 'Descriptor',\n",
       "       'Doc_ID'],\n",
       "      dtype='object')"
      ]
     },
     "execution_count": 9,
     "metadata": {},
     "output_type": "execute_result"
    }
   ],
   "source": [
    "corpus_df.columns"
   ]
  },
  {
   "cell_type": "markdown",
   "id": "075628e0",
   "metadata": {},
   "source": [
    "### 1.3) Data Wrangling "
   ]
  },
  {
   "cell_type": "code",
   "execution_count": null,
   "id": "7f3bf395",
   "metadata": {},
   "outputs": [],
   "source": []
  },
  {
   "cell_type": "code",
   "execution_count": null,
   "id": "d449e804",
   "metadata": {},
   "outputs": [],
   "source": []
  },
  {
   "cell_type": "code",
   "execution_count": null,
   "id": "5ad13372",
   "metadata": {},
   "outputs": [],
   "source": []
  },
  {
   "cell_type": "markdown",
   "id": "1f7c3f43",
   "metadata": {},
   "source": [
    "### 1.4) Vectorization"
   ]
  },
  {
   "cell_type": "code",
   "execution_count": null,
   "id": "42acacb8",
   "metadata": {},
   "outputs": [],
   "source": []
  },
  {
   "cell_type": "code",
   "execution_count": null,
   "id": "1717488f",
   "metadata": {},
   "outputs": [],
   "source": []
  },
  {
   "cell_type": "code",
   "execution_count": null,
   "id": "05045151",
   "metadata": {},
   "outputs": [],
   "source": []
  },
  {
   "cell_type": "markdown",
   "id": "2984d03e",
   "metadata": {},
   "source": [
    "### 1.5) Clustering Experiments"
   ]
  },
  {
   "cell_type": "markdown",
   "id": "4ebb7f9c",
   "metadata": {},
   "source": [
    "#### 1.5.1) K-Means Clustering Experiments"
   ]
  },
  {
   "cell_type": "markdown",
   "id": "14064d1d",
   "metadata": {},
   "source": [
    "Let's conduct our first clustering experiments via K-Means Clustering to determine whether we can successfully cluster movie reviews based on review type, genre, or movie title."
   ]
  },
  {
   "cell_type": "code",
   "execution_count": null,
   "id": "20dcf6e4",
   "metadata": {},
   "outputs": [],
   "source": [
    "def k_means(titles, tfidf_matrix, k=3):\n",
    "    \n",
    "    #this is a function to generate the k-means output using the tfidf matrix.  Inputs \n",
    "    #to the function include: titles of text, processed text, and desired k value. \n",
    "    #Returns dataframe indicating cluster number per document\n",
    "\n",
    "    km = KMeans(n_clusters=k, random_state =89)\n",
    "    km.fit(tfidf_matrix)\n",
    "    clusters = km.labels_.tolist()\n",
    "\n",
    "    Dictionary={'Doc Name':titles, 'Cluster':clusters,  'Text': final_processed_text}\n",
    "    frame=pd.DataFrame(Dictionary, columns=['Cluster', 'Doc Name','Text'])\n",
    "    #dictionary to store clusters and respective titles\n",
    "    cluster_title={}\n",
    "\n",
    "    #note doc2vec clusters will not have individual words due to the vector representation\n",
    "    #is based on the entire document not indvidual words. As a result, there won't be individual\n",
    "    #word outputs from each cluster.   \n",
    "    for i in range(k):\n",
    "        temp=frame[frame['Cluster']==i]\n",
    "        temp_title_list=[]\n",
    "        for title in temp['Doc Name']:\n",
    "            temp_title_list.append(title)\n",
    "        cluster_title[i]=temp_title_list\n",
    "\n",
    "    return cluster_title,clusters,frame\n",
    "\n",
    "\n",
    "tfidf_matrix = tfidf(final_processed_text, titles, ngram_range = (1,1))\n",
    "\n",
    "cluster_title,clusters,k_means_df = k_means(titles, tfidf_matrix, k=20)\n",
    "\n",
    "cluster_title[9]\n",
    "\n",
    "plot_tfidf_matrix(cluster_title,clusters,tfidf_matrix)\n",
    "\n",
    "labels = data['Review Type (pos or neg)'].apply(lambda x: 0 if x.lower().split(' ')[0] == 'negative' else 1)\n",
    "print(labels)"
   ]
  },
  {
   "cell_type": "code",
   "execution_count": null,
   "id": "4e401277",
   "metadata": {},
   "outputs": [],
   "source": []
  },
  {
   "cell_type": "markdown",
   "id": "0dde44ee",
   "metadata": {},
   "source": [
    "#### 1.5.2) Hierarchical Clustering Experiments"
   ]
  },
  {
   "cell_type": "code",
   "execution_count": null,
   "id": "303fb814",
   "metadata": {},
   "outputs": [],
   "source": [
    "########################### THIS MAY BE A STRETCH GOAL SECTION ################################################"
   ]
  },
  {
   "cell_type": "code",
   "execution_count": null,
   "id": "55a4c919",
   "metadata": {},
   "outputs": [],
   "source": []
  },
  {
   "cell_type": "code",
   "execution_count": null,
   "id": "2256529b",
   "metadata": {},
   "outputs": [],
   "source": []
  },
  {
   "cell_type": "markdown",
   "id": "aa6b68bf",
   "metadata": {},
   "source": [
    "#### 1.5.3) DBSCAN Clustering Experiments"
   ]
  },
  {
   "cell_type": "code",
   "execution_count": null,
   "id": "cf200f81",
   "metadata": {},
   "outputs": [],
   "source": [
    "################################ THIS MAY BE A STRETCH GOAL SECTION ##########################################"
   ]
  },
  {
   "cell_type": "code",
   "execution_count": null,
   "id": "769a2db6",
   "metadata": {},
   "outputs": [],
   "source": []
  },
  {
   "cell_type": "code",
   "execution_count": null,
   "id": "5b7b3892",
   "metadata": {},
   "outputs": [],
   "source": []
  },
  {
   "cell_type": "markdown",
   "id": "9e4bcb55",
   "metadata": {},
   "source": [
    "## 2) Sentiment Analysis"
   ]
  },
  {
   "cell_type": "markdown",
   "id": "27471841",
   "metadata": {},
   "source": [
    "Let's examine the effectiveness of various classification algorithms for conducting sentiment analysis on our corpus.  We can leverage Random Forest Classification, Naive Bayes Classification, and Support Vector Machine Classification to predict which reviews are positive or negative."
   ]
  },
  {
   "cell_type": "markdown",
   "id": "0f478329",
   "metadata": {},
   "source": [
    "### 2.1) Random Forest Classifier Experiments"
   ]
  },
  {
   "cell_type": "markdown",
   "id": "7ab2d3e4",
   "metadata": {},
   "source": [
    "Let's apply random forest classification to our corpus to see how effectively we can predict which reviews are positive or negative."
   ]
  },
  {
   "cell_type": "code",
   "execution_count": null,
   "id": "49a42b8f",
   "metadata": {},
   "outputs": [],
   "source": [
    "def classifiers(x, y, model_type, cv = 3):\n",
    "    \n",
    "    #this function is to fit 3 different model scenarios.  Support vector machines, logistic regressions, naive bayes.\n",
    "    #svm = Support vector machin\n",
    "    #logistic = Logistic regression\n",
    "    #naive_bayes = Naive Bayes Multinomial\n",
    "    \n",
    "    #can define cv value for cross validation.\n",
    "    \n",
    "    #function returns the train test split scores of each model.\n",
    "    \n",
    "    if model_type == 'svm':\n",
    "        print(\"svm\")\n",
    "        model = SVC()\n",
    "\n",
    "    elif model_type == 'logistic':\n",
    "        print(\"logistic\")\n",
    "        model = LogisticRegression()\n",
    "\n",
    "    elif model_type == 'naive_bayes':\n",
    "        print(\"naive_bayes\")\n",
    "        model = MultinomialNB()\n",
    "    \n",
    "    elif model_type == 'randomforest':\n",
    "        print(\"randomforest\")\n",
    "        model = RandomForestClassifier()\n",
    "\n",
    "    X_train, X_test, y_train, y_test = train_test_split(x, y, test_size=0.10, random_state=23)\n",
    "    model.fit(X_train, y_train)\n",
    "    \n",
    "    predictions = model.predict(X_test)\n",
    "    accy = accuracy_score(y_test, predictions) \n",
    "    return accy\n",
    "\n",
    "classifiers(tfidf_matrix, labels, 'randomforest')"
   ]
  },
  {
   "cell_type": "code",
   "execution_count": null,
   "id": "dce9ce91",
   "metadata": {},
   "outputs": [],
   "source": []
  },
  {
   "cell_type": "markdown",
   "id": "d054f928",
   "metadata": {},
   "source": [
    "### 2.2) Naive Bayes Classifier Experiments"
   ]
  },
  {
   "cell_type": "markdown",
   "id": "40ecc61f",
   "metadata": {},
   "source": [
    "Let's apply Naive Bayes Classificaiton to our corpus to determine how effectively we can predict which reviews are positive or negative."
   ]
  },
  {
   "cell_type": "code",
   "execution_count": null,
   "id": "f70fdf6c",
   "metadata": {},
   "outputs": [],
   "source": [
    "classifiers(tfidf_matrix, labels, 'naive_bayes')"
   ]
  },
  {
   "cell_type": "code",
   "execution_count": null,
   "id": "9f85d35e",
   "metadata": {},
   "outputs": [],
   "source": []
  },
  {
   "cell_type": "markdown",
   "id": "61cb6b60",
   "metadata": {},
   "source": [
    "### 2.3) Support Vector Machine Classification Experiments"
   ]
  },
  {
   "cell_type": "markdown",
   "id": "77969a9b",
   "metadata": {},
   "source": [
    "Let's apply Support Vector Machine Classification to our corpus to determine how effectively we can predict which reviews are positive or negative."
   ]
  },
  {
   "cell_type": "code",
   "execution_count": null,
   "id": "ada80ac4",
   "metadata": {},
   "outputs": [],
   "source": [
    "classifiers(tfidf_matrix, labels, 'svm')"
   ]
  },
  {
   "cell_type": "code",
   "execution_count": null,
   "id": "34ae7393",
   "metadata": {},
   "outputs": [],
   "source": []
  },
  {
   "cell_type": "markdown",
   "id": "403232aa",
   "metadata": {},
   "source": [
    "## 3) Multi-Class Classification"
   ]
  },
  {
   "cell_type": "markdown",
   "id": "37f3f181",
   "metadata": {},
   "source": [
    "Let's apply various classification algorithms to our corpus to determine whether Random Forest Classification, Naive Bayes Classification, or Support Vector Machine Classification perform well at predicting movie genre using movie review data."
   ]
  },
  {
   "cell_type": "markdown",
   "id": "6216d2bb",
   "metadata": {},
   "source": [
    "### 3.1) Random Forest Classifier Experiments"
   ]
  },
  {
   "cell_type": "markdown",
   "id": "18b9a6f4",
   "metadata": {},
   "source": [
    "Let's apply Random Forest Classification to our corpus to predict genre based on the movie review data."
   ]
  },
  {
   "cell_type": "code",
   "execution_count": null,
   "id": "152e7ebc",
   "metadata": {},
   "outputs": [],
   "source": []
  },
  {
   "cell_type": "code",
   "execution_count": null,
   "id": "6d0be80f",
   "metadata": {},
   "outputs": [],
   "source": []
  },
  {
   "cell_type": "markdown",
   "id": "630f3d0c",
   "metadata": {},
   "source": [
    "### 3.2) Naive Bayes Classifier Experiments"
   ]
  },
  {
   "cell_type": "markdown",
   "id": "6ba7fd88",
   "metadata": {},
   "source": [
    "Let's apply Naive Bayes Classification to our corpus to examine how well we can predict movie genre based on the movie review."
   ]
  },
  {
   "cell_type": "code",
   "execution_count": null,
   "id": "9cafcd17",
   "metadata": {},
   "outputs": [],
   "source": []
  },
  {
   "cell_type": "code",
   "execution_count": null,
   "id": "c21294d2",
   "metadata": {},
   "outputs": [],
   "source": []
  },
  {
   "cell_type": "markdown",
   "id": "b9c0c3d5",
   "metadata": {},
   "source": [
    "### 3.3) Support Vector Machine Experiments"
   ]
  },
  {
   "cell_type": "markdown",
   "id": "47a47b99",
   "metadata": {},
   "source": [
    "Let's apply Support Vector Machine Classification to our corpus data to examine how well we can predict movie genre using the movie review data."
   ]
  },
  {
   "cell_type": "code",
   "execution_count": null,
   "id": "b5238df0",
   "metadata": {},
   "outputs": [],
   "source": []
  },
  {
   "cell_type": "code",
   "execution_count": null,
   "id": "518b186a",
   "metadata": {},
   "outputs": [],
   "source": []
  },
  {
   "cell_type": "markdown",
   "id": "95407ef8",
   "metadata": {},
   "source": [
    "## 4) Topic Modeling"
   ]
  },
  {
   "cell_type": "markdown",
   "id": "1ad23605",
   "metadata": {},
   "source": [
    "### 4.1) Latent Semantic Analysis Experiments"
   ]
  },
  {
   "cell_type": "code",
   "execution_count": null,
   "id": "66d3ef4c",
   "metadata": {},
   "outputs": [],
   "source": []
  },
  {
   "cell_type": "code",
   "execution_count": null,
   "id": "3fc49c42",
   "metadata": {},
   "outputs": [],
   "source": []
  },
  {
   "cell_type": "code",
   "execution_count": null,
   "id": "6627efe0",
   "metadata": {},
   "outputs": [],
   "source": []
  },
  {
   "cell_type": "markdown",
   "id": "889c9995",
   "metadata": {},
   "source": [
    "### 4.2) Latent Dirichlet Allocation Experiments"
   ]
  },
  {
   "cell_type": "code",
   "execution_count": null,
   "id": "326e3647",
   "metadata": {},
   "outputs": [],
   "source": []
  },
  {
   "cell_type": "code",
   "execution_count": null,
   "id": "7709d11b",
   "metadata": {},
   "outputs": [],
   "source": []
  },
  {
   "cell_type": "code",
   "execution_count": null,
   "id": "4aa32192",
   "metadata": {},
   "outputs": [],
   "source": []
  }
 ],
 "metadata": {
  "kernelspec": {
   "display_name": "Python 3 (ipykernel)",
   "language": "python",
   "name": "python3"
  },
  "language_info": {
   "codemirror_mode": {
    "name": "ipython",
    "version": 3
   },
   "file_extension": ".py",
   "mimetype": "text/x-python",
   "name": "python",
   "nbconvert_exporter": "python",
   "pygments_lexer": "ipython3",
   "version": "3.9.12"
  }
 },
 "nbformat": 4,
 "nbformat_minor": 5
}
