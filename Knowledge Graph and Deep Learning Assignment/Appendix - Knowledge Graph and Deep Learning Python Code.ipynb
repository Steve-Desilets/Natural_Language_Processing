{
 "cells": [
  {
   "cell_type": "markdown",
   "id": "8b6fcb16",
   "metadata": {},
   "source": [
    "# Appendix - Knowledge Graph and Deep Learning Python Code"
   ]
  },
  {
   "cell_type": "markdown",
   "id": "8b030bb0",
   "metadata": {},
   "source": [
    "## 1) Knowledge Graphs"
   ]
  },
  {
   "cell_type": "markdown",
   "id": "815aed40",
   "metadata": {},
   "source": [
    "Let's leverage the reviews of the movie \"Sisters\" in our corpus to generate knowledge graphs that can visualize relationships between named entities in the text."
   ]
  },
  {
   "cell_type": "markdown",
   "id": "79e0a9d6",
   "metadata": {},
   "source": [
    "### 1.1) Loading the Corpus"
   ]
  },
  {
   "cell_type": "markdown",
   "id": "c8789d3b",
   "metadata": {},
   "source": [
    "First, let's load the corpus into Python."
   ]
  },
  {
   "cell_type": "code",
   "execution_count": null,
   "id": "65fb2c2a",
   "metadata": {},
   "outputs": [],
   "source": [
    "import pandas as pd\n",
    "import numpy as np\n",
    "import re\n",
    "import string\n",
    "import seaborn as sns\n",
    "import matplotlib.pyplot as plt\n",
    "import nltk\n",
    "from collections import Counter\n",
    "from dataclasses import dataclass\n",
    "from timeit import default_timer as timer\n",
    "\n",
    "from nltk.corpus import stopwords\n",
    "from nltk.stem.wordnet import WordNetLemmatizer\n",
    "from nltk.tokenize import word_tokenize \n",
    "\n",
    "import gensim\n",
    "from gensim.models import Word2Vec\n",
    "\n",
    "import spacy\n",
    "from spacy import displacy\n",
    "\n",
    "from spacy.matcher import Matcher \n",
    "from spacy.tokens import Span \n",
    "\n",
    "import networkx as nx\n",
    "import matplotlib.pyplot as plt\n",
    "from tqdm import tqdm\n",
    "\n",
    "\n",
    "from sklearn.feature_extraction.text import TfidfVectorizer\n",
    "from sklearn.feature_extraction.text import CountVectorizer\n",
    "from sklearn.metrics.pairwise import cosine_similarity\n",
    "from sklearn.svm import SVC\n",
    "from sklearn.metrics import accuracy_score, f1_score\n",
    "from sklearn.model_selection import train_test_split\n",
    "\n",
    "from IPython.display import display, HTML\n",
    "\n",
    "from sklearn.metrics import confusion_matrix, classification_report\n",
    "from sklearn.metrics import accuracy_score, f1_score\n",
    "\n",
    "import tensorflow as tf\n",
    "from tensorflow import keras\n",
    "import tensorflow_datasets as tfds\n",
    "tf.random.set_seed(2022)\n",
    "import tensorflow.keras.backend as k\n",
    "\n",
    "from typing import List, Callable, Dict, Tuple, Set"
   ]
  },
  {
   "cell_type": "code",
   "execution_count": null,
   "id": "ce52c927",
   "metadata": {},
   "outputs": [],
   "source": [
    "# Requires Restart of Runtime after Installation\n",
    "\n",
    "#!python -m spacy download en_core_web_lg -q"
   ]
  },
  {
   "cell_type": "code",
   "execution_count": null,
   "id": "bbb9c5ef",
   "metadata": {},
   "outputs": [],
   "source": [
    "nlp = spacy.load('en_core_web_lg')"
   ]
  },
  {
   "cell_type": "code",
   "execution_count": null,
   "id": "3af6f063",
   "metadata": {},
   "outputs": [],
   "source": [
    "# Only run this once, they will be downloaded.\n",
    "nltk.download('stopwords',quiet=True)\n",
    "nltk.download('wordnet',quiet=True)\n",
    "nltk.download('punkt',quiet=True)\n",
    "nltk.download('omw-1.4',quiet=True)"
   ]
  },
  {
   "cell_type": "markdown",
   "id": "41c9757a",
   "metadata": {},
   "source": [
    "\n",
    "Gensim is a Python library for topic modelling, document indexing and similarity retrieval with large corpora. Target audience is the natural language processing (NLP) and information retrieval (IR) community: https://pypi.org/project/gensim/ "
   ]
  },
  {
   "cell_type": "code",
   "execution_count": null,
   "id": "0db41d14",
   "metadata": {},
   "outputs": [],
   "source": [
    "import pkg_resources\n",
    "#pkg_resources.require(\"gensim<=3.8.3\");"
   ]
  },
  {
   "cell_type": "code",
   "execution_count": null,
   "id": "83de152f",
   "metadata": {},
   "outputs": [],
   "source": [
    "print(\"Genism Version: \", gensim.__version__)"
   ]
  },
  {
   "cell_type": "code",
   "execution_count": null,
   "id": "13ed3c3e",
   "metadata": {},
   "outputs": [],
   "source": [
    "# Suppress Warning Messages\n",
    "def warn(*args, **kwargs):\n",
    "    pass\n",
    "import warnings\n",
    "warnings.warn = warn"
   ]
  },
  {
   "cell_type": "code",
   "execution_count": null,
   "id": "8764aeee",
   "metadata": {},
   "outputs": [],
   "source": [
    "corpus_df = get_corpus_df('MSDS453_ClassCorpus_Final_Sec56_v5_20230720.csv')"
   ]
  },
  {
   "cell_type": "code",
   "execution_count": null,
   "id": "60d91664",
   "metadata": {},
   "outputs": [],
   "source": []
  },
  {
   "cell_type": "code",
   "execution_count": null,
   "id": "ba374995",
   "metadata": {},
   "outputs": [],
   "source": []
  },
  {
   "cell_type": "markdown",
   "id": "e66f9a77",
   "metadata": {},
   "source": [
    "### 1.2) Exploratory Data Analysis"
   ]
  },
  {
   "cell_type": "markdown",
   "id": "84d29f08",
   "metadata": {},
   "source": [
    "Having loaded the appropriate Python libraries and loaded the corpus of movie reviews, let's conduct some initial exploratory data analysis."
   ]
  },
  {
   "cell_type": "code",
   "execution_count": 1,
   "id": "02c3613f",
   "metadata": {},
   "outputs": [
    {
     "ename": "NameError",
     "evalue": "name 'corpus_df' is not defined",
     "output_type": "error",
     "traceback": [
      "\u001b[1;31m---------------------------------------------------------------------------\u001b[0m",
      "\u001b[1;31mNameError\u001b[0m                                 Traceback (most recent call last)",
      "Input \u001b[1;32mIn [1]\u001b[0m, in \u001b[0;36m<cell line: 2>\u001b[1;34m()\u001b[0m\n\u001b[0;32m      1\u001b[0m \u001b[38;5;66;03m# Tokenize sentences\u001b[39;00m\n\u001b[1;32m----> 2\u001b[0m corpus_df[\u001b[38;5;124m'\u001b[39m\u001b[38;5;124mraw_sentences\u001b[39m\u001b[38;5;124m'\u001b[39m] \u001b[38;5;241m=\u001b[39m \u001b[43mcorpus_df\u001b[49m\u001b[38;5;241m.\u001b[39mText\u001b[38;5;241m.\u001b[39mapply(get_sentences)\n\u001b[0;32m      3\u001b[0m corpus_df\u001b[38;5;241m.\u001b[39mhead(\u001b[38;5;241m3\u001b[39m)\u001b[38;5;241m.\u001b[39mT\n",
      "\u001b[1;31mNameError\u001b[0m: name 'corpus_df' is not defined"
     ]
    }
   ],
   "source": [
    "# Tokenize sentences\n",
    "corpus_df['raw_sentences'] = corpus_df.Text.apply(get_sentences)\n",
    "corpus_df.head(3).T\n",
    "\n",
    "corpus_df.shape\n",
    "\n",
    "print(corpus_df.info());\n",
    "\n",
    "print(corpus_df['Movie Title'].unique())\n",
    "\n",
    "corpus_df.columns\n",
    "\n",
    "# Gather the number of reviews by genre\n",
    "counts_df = corpus_df[['Genre of Movie']].copy()\n",
    "counts_df['Count'] = 1\n",
    "counts_df.groupby(['Genre of Movie']).count().reset_index()\n"
   ]
  },
  {
   "cell_type": "markdown",
   "id": "3d5ccc23",
   "metadata": {},
   "source": [
    "### 1.3) Data Wrangling"
   ]
  },
  {
   "cell_type": "markdown",
   "id": "3816d3e0",
   "metadata": {},
   "source": [
    "Let's conduct data wrangling to prepare the text as needed prior to the creation of our knowledge graphs."
   ]
  },
  {
   "cell_type": "markdown",
   "id": "0a25dc6f",
   "metadata": {},
   "source": [
    "#### 1.3.1) Data Wrangling and Vectorization Method 1"
   ]
  },
  {
   "cell_type": "markdown",
   "id": "090cb043",
   "metadata": {},
   "source": [
    "Let's define data wrangling utility functions that we can leverage on our corpus."
   ]
  },
  {
   "cell_type": "code",
   "execution_count": null,
   "id": "25449243",
   "metadata": {},
   "outputs": [],
   "source": [
    "def add_movie_descriptor(data: pd.DataFrame, corpus_df: pd.DataFrame):\n",
    "    \"\"\"\n",
    "    Adds \"Movie Description\" to the supplied dataframe, in the form {Genre}_{P|N}_{Movie Title}_{DocID}\n",
    "    \"\"\"\n",
    "    review = np.where(corpus_df['Review Type (pos or neg)'] == 'Positive', 'P', 'N')\n",
    "    data['Descriptor'] = corpus_df['Genre of Movie'] + '_' + corpus_df['Movie Title'] + '_' + review + '_' + corpus_df['Doc_ID'].astype(str)\n",
    "    \n",
    "def get_corpus_df(path: str) -> pd.DataFrame:\n",
    "    data = pd.read_csv(path,encoding=\"utf-8\")\n",
    "    add_movie_descriptor(data, data)\n",
    "    sorted_data = data.sort_values(['Descriptor'])\n",
    "    indexed_data = sorted_data.set_index(['Doc_ID'])\n",
    "    indexed_data['Doc_ID'] = indexed_data.index\n",
    "    return indexed_data\n",
    "\n",
    "def remove_punctuation(text: str) -> str:\n",
    "    return re.sub('[^a-zA-Z]', '', str(text))\n",
    "\n",
    "def remove_tags(text: str) -> str:    \n",
    "    return re.sub('&lt;/?.*?&gt;', '', text)\n",
    "\n",
    "def remove_special_chars_and_digits(text: str) -> str:\n",
    "    return re.sub('(\\\\d|\\\\W)+', '', text)\n",
    "\n",
    "def get_sentences(text: str) -> List[str]:\n",
    "    return [str(x) for x in nlp(text).sents]\n",
    "\n",
    "def get_coref_resolved_sentences(text: str) -> List[str]:\n",
    "    return [str(x) for x in nlp(text).sents]\n",
    "\n",
    "def get_lemmas(text: str, stopwords: Set[str]) -> List[str]:\n",
    "    initial = [remove_tags(remove_special_chars_and_digits(remove_punctuation(x.lemma_.lower()))) for x in nlp(text)]\n",
    "    return [x for x in initial if x not in stopwords]\n",
    "\n",
    "def lemmatize_sentence(text: str, stopwords: Set[str]) -> str:\n",
    "    return ' '.join(get_lemmas(text, stopwords))\n",
    "\n",
    "def clean_doc(doc): \n",
    "    #doc = remove_punctuation(doc)\n",
    "    doc= ' '.join(remove_stop_words(doc))\n",
    "    doc = apply_lemmatization(doc)\n",
    "    return doc\n",
    "\n",
    "def remove_stop_words(in_text):\n",
    "    stop_words = set(stopwords.words('english')) \n",
    "    word_tokens = word_tokenize(in_text)  \n",
    "    filtered_sentence = [w for w in word_tokens if not w in stop_words] \n",
    "    return filtered_sentence\n",
    "\n",
    "def apply_lemmatization(in_text):\n",
    "    # Lemmatization\n",
    "    lem = WordNetLemmatizer()\n",
    "    word_list = nltk.word_tokenize(in_text)\n",
    "    output = ' '.join([lem.lemmatize(w) for w in word_list])\n",
    "    return output\n",
    "\n",
    "def counter_word(text):\n",
    "  count=Counter()\n",
    "  for i in text.values:\n",
    "    for word in i.split():\n",
    "      count[word]=+1\n",
    "  return count"
   ]
  },
  {
   "cell_type": "markdown",
   "id": "83a860be",
   "metadata": {},
   "source": [
    "Tokenize Words"
   ]
  },
  {
   "cell_type": "code",
   "execution_count": null,
   "id": "a4a872e4",
   "metadata": {},
   "outputs": [],
   "source": [
    "default_stopwords=\\\n",
    "set(nltk.corpus.stopwords.words('english')).union(set(nlp.Defaults.stop_words)).union({' ', ''})\n",
    "corpus_df['lemmas'] = corpus_df.Text.apply(lambda x: get_lemmas(x, default_stopwords))\n",
    "corpus_df.lemmas.head()"
   ]
  },
  {
   "cell_type": "code",
   "execution_count": null,
   "id": "8cf41099",
   "metadata": {},
   "outputs": [],
   "source": [
    "corpus_df.head(3).T"
   ]
  },
  {
   "cell_type": "markdown",
   "id": "4fff7097",
   "metadata": {},
   "source": [
    "Reassemble Lemmatized Words"
   ]
  },
  {
   "cell_type": "code",
   "execution_count": null,
   "id": "7be4fffa",
   "metadata": {},
   "outputs": [],
   "source": [
    "corpus_df['lemmas_joined'] = corpus_df.lemmas.apply(lambda x: ' '.join(x))"
   ]
  },
  {
   "cell_type": "code",
   "execution_count": null,
   "id": "932d1505",
   "metadata": {},
   "outputs": [],
   "source": [
    "corpus_df['lemmas_joined'].head()"
   ]
  },
  {
   "cell_type": "code",
   "execution_count": null,
   "id": "537191d7",
   "metadata": {},
   "outputs": [],
   "source": [
    "corpus_df.head(3).T"
   ]
  },
  {
   "cell_type": "markdown",
   "id": "2395e40e",
   "metadata": {},
   "source": [
    "Vocabulary Data Wrangling"
   ]
  },
  {
   "cell_type": "code",
   "execution_count": null,
   "id": "c859fa96",
   "metadata": {},
   "outputs": [],
   "source": [
    "vectorizer = CountVectorizer(ngram_range=(1, 1))\n",
    "transformed_documents = vectorizer.fit_transform(corpus_df.lemmas_joined)\n",
    "doc_term_matrix = transformed_documents.todense()\n",
    "doc_term_df = pd.DataFrame(doc_term_matrix, \n",
    "                           columns=vectorizer.get_feature_names_out(), \n",
    "                           index=corpus_df.Descriptor)\n",
    "print(f'All Word Vocabulary size: {doc_term_df.shape[1]}')\n",
    "all_words = set(doc_term_df.columns)\n",
    "\n",
    "vectorizer = CountVectorizer(ngram_range=(1, 1), min_df=5, max_df=.8)\n",
    "transformed_documents = vectorizer.fit_transform(corpus_df.lemmas_joined)\n",
    "doc_term_matrix = transformed_documents.todense()\n",
    "doc_term_df = pd.DataFrame(doc_term_matrix, \n",
    "                           columns=vectorizer.get_feature_names_out(), \n",
    "                           index=corpus_df.Descriptor)\n",
    "print(f'Curated Vocabulary size: {doc_term_df.shape[1]}')\n",
    "vocabulary = set(doc_term_df.columns)\n",
    "\n",
    "words_to_remove = default_stopwords.union(all_words - vocabulary)"
   ]
  },
  {
   "cell_type": "code",
   "execution_count": null,
   "id": "131ee98e",
   "metadata": {},
   "outputs": [],
   "source": [
    "plt.figure(figsize = (12, 8))\n",
    "plt.hist(doc_term_df.sum(axis=0).T, range=(0, 200))\n",
    "plt.xlabel('Number of Occurrences',fontsize=14)\n",
    "plt.ylabel('Number of Terms',fontsize=14);"
   ]
  },
  {
   "cell_type": "code",
   "execution_count": null,
   "id": "de8c832d",
   "metadata": {},
   "outputs": [],
   "source": [
    "# Re-tokenize words, recreate joined documents\n",
    "corpus_df['lemmas'] = corpus_df.Text.apply(lambda x: get_lemmas(x, words_to_remove))\n",
    "corpus_df['lemmas_joined'] = corpus_df.lemmas.apply(lambda x: ' '.join(x))\n",
    "corpus_df.lemmas.head()"
   ]
  },
  {
   "cell_type": "markdown",
   "id": "3cb501f6",
   "metadata": {},
   "source": [
    "Get Lemmatized and Filtered Sentences"
   ]
  },
  {
   "cell_type": "code",
   "execution_count": null,
   "id": "dd19171c",
   "metadata": {},
   "outputs": [],
   "source": [
    "corpus_df['sentences_lemmatized']=\\\n",
    "corpus_df.raw_sentences.apply(lambda x: [lemmatize_sentence(s, words_to_remove) for s in x])"
   ]
  },
  {
   "cell_type": "code",
   "execution_count": null,
   "id": "4bb3580a",
   "metadata": {},
   "outputs": [],
   "source": [
    "corpus_df.head().T"
   ]
  },
  {
   "cell_type": "markdown",
   "id": "80368098",
   "metadata": {},
   "source": [
    "Review Documents By Movie Title"
   ]
  },
  {
   "cell_type": "code",
   "execution_count": null,
   "id": "8628f801",
   "metadata": {},
   "outputs": [],
   "source": [
    "print(corpus_df['Movie Title'].unique())"
   ]
  },
  {
   "cell_type": "code",
   "execution_count": null,
   "id": "170ec046",
   "metadata": {},
   "outputs": [],
   "source": [
    "movie_df = corpus_df[corpus_df['Movie Title'] == 'Dirty Grandpa'].copy()\n",
    "movie_df.head(3).T"
   ]
  },
  {
   "cell_type": "markdown",
   "id": "4d24e743",
   "metadata": {},
   "source": [
    "#### 1.3.2) Data Wrangling and Vectorization Method 2"
   ]
  },
  {
   "cell_type": "code",
   "execution_count": null,
   "id": "4913f029",
   "metadata": {},
   "outputs": [],
   "source": []
  },
  {
   "cell_type": "code",
   "execution_count": null,
   "id": "e75772e7",
   "metadata": {},
   "outputs": [],
   "source": []
  },
  {
   "cell_type": "code",
   "execution_count": null,
   "id": "1f03b06f",
   "metadata": {},
   "outputs": [],
   "source": []
  },
  {
   "cell_type": "markdown",
   "id": "0c695ca6",
   "metadata": {},
   "source": [
    "#### 1.3.3) Data Wrangling and Vectorization Method 3"
   ]
  },
  {
   "cell_type": "code",
   "execution_count": null,
   "id": "0233f142",
   "metadata": {},
   "outputs": [],
   "source": []
  },
  {
   "cell_type": "code",
   "execution_count": null,
   "id": "7e9e7eb5",
   "metadata": {},
   "outputs": [],
   "source": []
  },
  {
   "cell_type": "code",
   "execution_count": null,
   "id": "c40495ca",
   "metadata": {},
   "outputs": [],
   "source": []
  },
  {
   "cell_type": "markdown",
   "id": "406b345e",
   "metadata": {},
   "source": [
    "### 1.4) Knowledge Graphs"
   ]
  },
  {
   "cell_type": "markdown",
   "id": "1a25a5fe",
   "metadata": {},
   "source": [
    "Let's define knowledge context graph functions."
   ]
  },
  {
   "cell_type": "code",
   "execution_count": null,
   "id": "9555b34e",
   "metadata": {},
   "outputs": [],
   "source": [
    "def map_edges(map_to: str, map_from: Set[str], df: pd.DataFrame):\n",
    "    print(f'Before mapping {\", \".join(map_from)} -> {map_to}: {sum(df.edge == map_to)}')\n",
    "    df['edge'] = np.where(kg_df.edge.isin(map_from), map_to, kg_df.edge)\n",
    "    print(f'After mapping {\", \".join(map_from)} -> {map_to}: {sum(df.edge == map_to)}')\n",
    "    \n",
    "def map_sources_and_targets(map_to: str, map_from: Set[str], df: pd.DataFrame):\n",
    "    before = sum(df.source == map_to) + sum(df.target == map_to)\n",
    "    print(f'Before mapping {\", \".join(map_from)} -> {map_to}: {before}')\n",
    "    \n",
    "    df['source'] = np.where(kg_df.source.isin(map_from), map_to, kg_df.source)\n",
    "    df['target'] = np.where(kg_df.target.isin(map_from), map_to, kg_df.target)\n",
    "    \n",
    "    after = sum(df.source == map_to) + sum(df.target == map_to)\n",
    "    print(f'After mapping {\", \".join(map_from)} -> {map_to}: {after}')\n",
    "    \n",
    "def get_neighborhood(sources: Set[str], edge_types: Set[str], depth: int, df: pd.DataFrame) -> pd.DataFrame:\n",
    "    output = []\n",
    "    \n",
    "    for d in range(depth):\n",
    "        if edge_types is not None:\n",
    "            rows = df[(df.edge.isin(edge_types)) & ((df.source.isin(sources)) | (df.target.isin(sources)))].copy()\n",
    "        else:\n",
    "            rows = df[(df.source.isin(sources)) | (df.target.isin(sources))].copy()\n",
    "            \n",
    "        output.append(rows)\n",
    "        sources = set(rows.target).union(set(rows.source))\n",
    "        \n",
    "    return pd.concat(output).drop_duplicates()\n",
    "\n",
    "def find_sources_and_targets_with_patterns(patterns: List[str], df: pd.DataFrame):\n",
    "    mask = np.zeros(kg_df.shape[0])\n",
    "    for pattern in patterns:\n",
    "        mask = mask | (df.source.str.contains(pattern)) | (df.target.str.contains(pattern))\n",
    "        \n",
    "    return df[mask]\n",
    "# Examples of how to use the function:\n",
    "# find_sources_and_targets_with_patterns(['action'], kg_df)\n",
    "# find_sources_and_targets_with_patterns(['terror'], kg_df)\n",
    "# find_sources_and_targets_with_patterns(['novel'], kg_df)\n",
    "# find_sources_and_targets_with_patterns(['director', 'campbell'], kg_df)\n",
    "\n",
    "\n",
    "def plot_graph(df: pd.DataFrame, show_edges: bool = False, figsize: Tuple[int, int] = (12, 12), use_circular: bool=True):\n",
    "    graph = nx.from_pandas_edgelist(df, \"source\", \"target\", edge_attr='edge', create_using=nx.MultiDiGraph())\n",
    "\n",
    "    plt.figure(figsize=figsize)\n",
    "    if use_circular:\n",
    "        pos = nx.circular_layout(graph)\n",
    "    else:\n",
    "        pos = nx.kamada_kawai_layout(graph)\n",
    "        \n",
    "    nx.draw(graph, with_labels=True, node_color='skyblue', edge_cmap=plt.cm.Blues, pos=pos)\n",
    "    if show_edges:\n",
    "        nx.draw_networkx_edge_labels(graph, pos=pos, font_size=8)\n",
    "        \n",
    "    plt.show()\n",
    "    \n",
    "def get_top_sources_and_targets(df: pd.DataFrame, top: int = 10):\n",
    "    return (Counter(df.source) + Counter(df.target)).most_common(top)\n",
    "\n",
    "def get_top_edges(df: pd.DataFrame, top: int = 10):\n",
    "    return Counter(df.edge).most_common(top)\n",
    "\n",
    "def get_dataset_partitions_pd(df, train_split=0.8, val_split=0.10, test_split=0.10):\n",
    "       # Specify seed to always have the same split distribution between runs\n",
    "    df_sample = df.sample(frac=1, random_state=12)\n",
    "    indices_or_sections = [int(.8*len(df)), int(.9*len(df))]\n",
    "    train_ds, val_ds, test_ds = np.split(df_sample, indices_or_sections)\n",
    "    return train_ds, val_ds, test_ds"
   ]
  },
  {
   "cell_type": "markdown",
   "id": "d93168bc",
   "metadata": {},
   "source": [
    "Let's define entity extraction functions."
   ]
  },
  {
   "cell_type": "code",
   "execution_count": null,
   "id": "a6f7c806",
   "metadata": {},
   "outputs": [],
   "source": [
    "def get_entities(sent):\n",
    "  ## chunk 1\n",
    "  ent1 = \"\"\n",
    "  ent2 = \"\"\n",
    "\n",
    "  prv_tok_dep = \"\"    # dependency tag of previous token in the sentence\n",
    "  prv_tok_text = \"\"   # previous token in the sentence\n",
    "\n",
    "  prefix = \"\"\n",
    "  modifier = \"\"\n",
    "\n",
    "  for tok in nlp(sent):\n",
    "    ## chunk 2\n",
    "    # if token is a punctuation mark then move on to the next token\n",
    "    if tok.dep_ != \"punct\":\n",
    "      # check: token is a compound word or not\n",
    "      if tok.dep_ == \"compound\":\n",
    "        prefix = tok.text\n",
    "        # if the previous word was also a 'compound' then add the current word to it\n",
    "        if prv_tok_dep == \"compound\":\n",
    "          prefix = prv_tok_text + \" \"+ tok.text\n",
    "      \n",
    "      # check: token is a modifier or not\n",
    "      if tok.dep_.endswith(\"mod\") == True:\n",
    "        modifier = tok.text\n",
    "        # if the previous word was also a 'compound' then add the current word to it\n",
    "        if prv_tok_dep == \"compound\":\n",
    "          modifier = prv_tok_text + \" \"+ tok.text\n",
    "      \n",
    "      ## chunk 3\n",
    "      if tok.dep_.find(\"subj\") == True:\n",
    "        ent1 = modifier +\" \"+ prefix + \" \"+ tok.text\n",
    "        prefix = \"\"\n",
    "        modifier = \"\"\n",
    "        prv_tok_dep = \"\"\n",
    "        prv_tok_text = \"\"      \n",
    "\n",
    "      ## chunk 4\n",
    "      if tok.dep_.find(\"obj\") == True:\n",
    "        ent2 = modifier +\" \"+ prefix +\" \"+ tok.text\n",
    "        \n",
    "      ## chunk 5  \n",
    "      # update variables\n",
    "      prv_tok_dep = tok.dep_\n",
    "      prv_tok_text = tok.text\n",
    "\n",
    "  return [ent1.strip(), ent2.strip()]\n",
    "\n",
    "def get_relation(sent):\n",
    "    try:\n",
    "        doc = nlp(sent)\n",
    "        \n",
    "        # Matcher class object \n",
    "        matcher = Matcher(nlp.vocab)\n",
    "\n",
    "        #define the pattern \n",
    "        pattern = [{'DEP':'ROOT'}, \n",
    "                {'DEP':'prep','OP':\"?\"},\n",
    "                {'DEP':'agent','OP':\"?\"},  \n",
    "                {'POS':'ADJ','OP':\"?\"}] \n",
    "        matcher.add(\"matching_1\", [pattern]) \n",
    "        matches = matcher(doc)\n",
    "        k = len(matches) - 1\n",
    "        span = doc[matches[k][1]:matches[k][2]] \n",
    "        \n",
    "        return(span.text)\n",
    "    except:\n",
    "        pass\n",
    "    \n",
    "def get_subject_verb_object(sent):\n",
    "  ent1 = \"\"\n",
    "  ent2 = \"\"\n",
    "  root = \"\"\n",
    "\n",
    "  for tok in nlp(sent):\n",
    "      if tok.dep_ == 'ROOT':\n",
    "        root = tok.text\n",
    "      elif tok.dep_ == \"nsubj\":\n",
    "        ent1 = tok.text\n",
    "      elif tok.dep_ == \"dobj\":\n",
    "        ent2 = tok.text\n",
    "\n",
    "      if ent1 != '' and ent2 != '' and root != '':\n",
    "        break\n",
    "\n",
    "  return [ent1, root, ent2]"
   ]
  },
  {
   "cell_type": "markdown",
   "id": "12890aac",
   "metadata": {},
   "source": [
    "Let's define functions that can be used for visualizations."
   ]
  },
  {
   "cell_type": "code",
   "execution_count": null,
   "id": "f61e6b1b",
   "metadata": {},
   "outputs": [],
   "source": [
    "def plot_confusion_matrix_labeled(y_true, y_pred, CLASSES_LIST):\n",
    "    mtx = confusion_matrix(y_true, y_pred)\n",
    "    # define classes \n",
    "    classes = CLASSES_LIST\n",
    "    temp_df = pd.DataFrame(data=mtx,columns=classes)\n",
    "    temp_df.index = classes\n",
    "    fig, ax = plt.subplots(figsize=(10,10))\n",
    "    sns.heatmap(temp_df, annot=True, fmt='d', linewidths=.75,  cbar=False, ax=ax,cmap='Blues',linecolor='white')\n",
    "    #  square=True,\n",
    "    plt.ylabel('true label')\n",
    "    plt.xlabel('predicted label')\n",
    "    \n",
    "def plot_graphs(history, metric):\n",
    "  plt.plot(history.history[metric])\n",
    "  plt.plot(history.history['val_'+metric], '')\n",
    "  plt.xlabel(\"Epochs\")\n",
    "  plt.ylabel(metric)\n",
    "  plt.legend([metric, 'val_'+metric])\n",
    "\n",
    "def display_training_curves(training, validation, title, subplot):\n",
    "  ax = plt.subplot(subplot)\n",
    "  ax.plot(training)\n",
    "  ax.plot(validation)\n",
    "  ax.set_title('model '+ title)\n",
    "  ax.set_ylabel(title)\n",
    "  ax.set_xlabel('epoch')\n",
    "  ax.legend(['training', 'validation'])"
   ]
  },
  {
   "cell_type": "markdown",
   "id": "f326fe21",
   "metadata": {},
   "source": [
    "Knowledge Graph Extraction"
   ]
  },
  {
   "cell_type": "code",
   "execution_count": null,
   "id": "807fc3e7",
   "metadata": {},
   "outputs": [],
   "source": [
    "corpus_text_sentences = [y for x in movie_df.raw_sentences for y in x]\n",
    "example_sentence = nlp(corpus_text_sentences[5])\n",
    "corpus_text_sentences[5]"
   ]
  },
  {
   "cell_type": "code",
   "execution_count": null,
   "id": "47444674",
   "metadata": {},
   "outputs": [],
   "source": [
    "entity_pairs = [get_entities(x) for x in tqdm(corpus_text_sentences)]"
   ]
  },
  {
   "cell_type": "code",
   "execution_count": null,
   "id": "9adce3fd",
   "metadata": {},
   "outputs": [],
   "source": [
    "entity_pairs"
   ]
  },
  {
   "cell_type": "markdown",
   "id": "f6538cb0",
   "metadata": {},
   "source": [
    "Create Dataframe of Sources, Edges, and Targets"
   ]
  },
  {
   "cell_type": "code",
   "execution_count": null,
   "id": "edbf99ab",
   "metadata": {},
   "outputs": [],
   "source": [
    "relations = [get_relation(x) for x in corpus_text_sentences]   \n",
    "#extract subject and object\n",
    "source = [i[0] for i in entity_pairs]\n",
    "target = [i[1] for i in entity_pairs]\n",
    "kg_df = pd.DataFrame({'source': source, 'target': target, 'edge': relations})"
   ]
  },
  {
   "cell_type": "markdown",
   "id": "2ea697c5",
   "metadata": {},
   "source": [
    "Knowledge Graph Preprocessing (Lowercase Transformation and Removal of Empty Spaces)"
   ]
  },
  {
   "cell_type": "code",
   "execution_count": null,
   "id": "1f216ff0",
   "metadata": {},
   "outputs": [],
   "source": [
    "# Move everything to lower case\n",
    "kg_df.source = kg_df.source.str.lower()\n",
    "kg_df.target = kg_df.target.str.lower()\n",
    "kg_df.edge = kg_df.edge.str.lower()\n",
    "\n",
    "# Filter out empties\n",
    "kg_df = kg_df[kg_df.source != '']\n",
    "kg_df = kg_df[kg_df.target != '']\n",
    "kg_df = kg_df[kg_df.edge != ''].copy()"
   ]
  },
  {
   "cell_type": "code",
   "execution_count": null,
   "id": "9ae778f0",
   "metadata": {},
   "outputs": [],
   "source": [
    "kg_df.head(6).T"
   ]
  },
  {
   "cell_type": "code",
   "execution_count": null,
   "id": "42f72513",
   "metadata": {},
   "outputs": [],
   "source": [
    "kg_df.shape"
   ]
  },
  {
   "cell_type": "code",
   "execution_count": null,
   "id": "7b4ee349",
   "metadata": {},
   "outputs": [],
   "source": [
    "len(corpus_text_sentences)"
   ]
  },
  {
   "cell_type": "markdown",
   "id": "1690bc8c",
   "metadata": {},
   "source": [
    "Plotting Knowledge Graph"
   ]
  },
  {
   "cell_type": "code",
   "execution_count": null,
   "id": "cc8e64fd",
   "metadata": {},
   "outputs": [],
   "source": [
    "plot_graph(kg_df, use_circular=True)"
   ]
  },
  {
   "cell_type": "markdown",
   "id": "5fb81aee",
   "metadata": {},
   "source": [
    "Plotting Knowledge Graph Subset 1"
   ]
  },
  {
   "cell_type": "markdown",
   "id": "37aef1c9",
   "metadata": {},
   "source": [
    "Let's examine the subset of our knowledge graph connected to nodes that correspond to the movie title, \"Sisters.\""
   ]
  },
  {
   "cell_type": "code",
   "execution_count": null,
   "id": "ae845cab",
   "metadata": {},
   "outputs": [],
   "source": [
    "RELATION_TO_EXPLORE = 'sisters'"
   ]
  },
  {
   "cell_type": "code",
   "execution_count": null,
   "id": "90b29501",
   "metadata": {},
   "outputs": [],
   "source": [
    "G = nx.from_pandas_edgelist(kg_df[kg_df['edge'] == RELATION_TO_EXPLORE], \n",
    "                            \"source\", \"target\", \n",
    "                            edge_attr=True, \n",
    "                            create_using=nx.MultiDiGraph())\n",
    "\n",
    "plt.figure(figsize=(12, 12))\n",
    "\n",
    "pos = nx.spring_layout(G, k=0.5) # k regulates the distance between nodes\n",
    "\n",
    "nx.draw(G, with_labels=True, \n",
    "        node_color='skyblue', \n",
    "        node_size=1500, edge_cmap=plt.cm.Blues, pos=pos)\n",
    "\n",
    "plt.show()"
   ]
  },
  {
   "cell_type": "markdown",
   "id": "8e4d5a80",
   "metadata": {},
   "source": [
    "Plotting Knowledge Graph Subset 2"
   ]
  },
  {
   "cell_type": "markdown",
   "id": "cfcaab63",
   "metadata": {},
   "source": [
    "Let's examine the subset of our knowledge graph connected to nodes that correspond to one of the lead actresses, Amy Poehler."
   ]
  },
  {
   "cell_type": "code",
   "execution_count": null,
   "id": "df0b68e8",
   "metadata": {},
   "outputs": [],
   "source": [
    "RELATION_TO_EXPLORE = 'amy poehler'"
   ]
  },
  {
   "cell_type": "code",
   "execution_count": null,
   "id": "779af563",
   "metadata": {},
   "outputs": [],
   "source": [
    "G = nx.from_pandas_edgelist(kg_df[kg_df['edge'] == RELATION_TO_EXPLORE], \n",
    "                            \"source\", \"target\", \n",
    "                            edge_attr=True, \n",
    "                            create_using=nx.MultiDiGraph())\n",
    "\n",
    "plt.figure(figsize=(12, 12))\n",
    "\n",
    "pos = nx.spring_layout(G, k=0.5) # k regulates the distance between nodes\n",
    "\n",
    "nx.draw(G, with_labels=True, \n",
    "        node_color='skyblue', \n",
    "        node_size=1500, edge_cmap=plt.cm.Blues, pos=pos)\n",
    "\n",
    "plt.show()"
   ]
  },
  {
   "cell_type": "markdown",
   "id": "9c8d4451",
   "metadata": {},
   "source": [
    "Plotting Knowledge Graph Subset 3"
   ]
  },
  {
   "cell_type": "markdown",
   "id": "64a758f4",
   "metadata": {},
   "source": [
    "Let's examine the subset of our knowledge graph connected to nodes that correspond to one of the lead actresses, Tina Fey."
   ]
  },
  {
   "cell_type": "code",
   "execution_count": null,
   "id": "92509fc4",
   "metadata": {},
   "outputs": [],
   "source": [
    "RELATION_TO_EXPLORE = 'tina fey'"
   ]
  },
  {
   "cell_type": "code",
   "execution_count": null,
   "id": "8d9642f1",
   "metadata": {},
   "outputs": [],
   "source": [
    "G = nx.from_pandas_edgelist(kg_df[kg_df['edge'] == RELATION_TO_EXPLORE], \n",
    "                            \"source\", \"target\", \n",
    "                            edge_attr=True, \n",
    "                            create_using=nx.MultiDiGraph())\n",
    "\n",
    "plt.figure(figsize=(12, 12))\n",
    "\n",
    "pos = nx.spring_layout(G, k=0.5) # k regulates the distance between nodes\n",
    "\n",
    "nx.draw(G, with_labels=True, \n",
    "        node_color='skyblue', \n",
    "        node_size=1500, edge_cmap=plt.cm.Blues, pos=pos)\n",
    "\n",
    "plt.show()"
   ]
  },
  {
   "cell_type": "markdown",
   "id": "3c7452f9",
   "metadata": {},
   "source": [
    "## 2) Classification with Long Short-Term Memory (LSTM) Models"
   ]
  },
  {
   "cell_type": "markdown",
   "id": "7ca99c0d",
   "metadata": {},
   "source": [
    "Let's create Long Short-Term Memory models that are capable of classifying movie reviews by genre and by movie review sentiment (i.e. positive or negative review)."
   ]
  },
  {
   "cell_type": "markdown",
   "id": "5207ae9c",
   "metadata": {},
   "source": [
    "### 2.1) Data Wrangling for LSTM Models"
   ]
  },
  {
   "cell_type": "markdown",
   "id": "4f75db09",
   "metadata": {},
   "source": [
    "Let's conduct data wrangling and preprocessing as needed to format the corpus text for the LSTM models."
   ]
  },
  {
   "cell_type": "code",
   "execution_count": null,
   "id": "6a00ef08",
   "metadata": {},
   "outputs": [],
   "source": [
    "datafull=corpus_df.copy() \n",
    "datafull.reset_index(drop=True, inplace=True)\n",
    "datafull.head(4).T"
   ]
  },
  {
   "cell_type": "code",
   "execution_count": null,
   "id": "f24e1e49",
   "metadata": {},
   "outputs": [],
   "source": [
    "datafull['Text'] = datafull['Text'].apply(lambda x :clean_doc(x))"
   ]
  },
  {
   "cell_type": "code",
   "execution_count": null,
   "id": "53a617f8",
   "metadata": {},
   "outputs": [],
   "source": [
    "data = datafull[['Text','Genre of Movie']].copy()"
   ]
  },
  {
   "cell_type": "code",
   "execution_count": null,
   "id": "bbb34e1c",
   "metadata": {},
   "outputs": [],
   "source": [
    "data['Genre of Movie'] = data['Genre of Movie'].astype(\"category\")\n",
    "data['Genre of Movie code'] = data['Genre of Movie'].cat.codes\n",
    "data['Genre of Movie code'].tail().T"
   ]
  },
  {
   "cell_type": "code",
   "execution_count": null,
   "id": "db87a28b",
   "metadata": {},
   "outputs": [],
   "source": [
    "features, targets = data['Text'], data['Genre of Movie code']                                                                         \n",
    "data[[\"Genre of Movie\",\"Genre of Movie code\"]].value_counts()"
   ]
  },
  {
   "cell_type": "markdown",
   "id": "a6fd296c",
   "metadata": {},
   "source": [
    "Let's create the training, validation, and testing datasets for construction of our LSTM models."
   ]
  },
  {
   "cell_type": "code",
   "execution_count": null,
   "id": "c1960f23",
   "metadata": {},
   "outputs": [],
   "source": [
    "trainds, valds, testds = get_dataset_partitions_pd(data[['Text','Genre of Movie code']])\n",
    "trainds.shape, valds.shape, testds.shape"
   ]
  },
  {
   "cell_type": "markdown",
   "id": "23718d7a",
   "metadata": {},
   "source": [
    "Let's convert the dataframe to a TensorFlow dataset."
   ]
  },
  {
   "cell_type": "code",
   "execution_count": null,
   "id": "3374710a",
   "metadata": {},
   "outputs": [],
   "source": [
    "# train X & y\n",
    "train_text_ds_raw = tf.data.Dataset.from_tensor_slices(\n",
    "            tf.cast(trainds['Text'].values, tf.string)\n",
    ") \n",
    "train_cat_ds_raw = tf.data.Dataset.from_tensor_slices(\n",
    "            tf.cast(trainds['Genre of Movie code'].values, tf.int64),\n",
    "  ) \n",
    "# test X & y\n",
    "test_text_ds_raw = tf.data.Dataset.from_tensor_slices(\n",
    "            tf.cast(testds['Text'].values, tf.string)\n",
    ") \n",
    "test_cat_ds_raw = tf.data.Dataset.from_tensor_slices(\n",
    "            tf.cast(testds['Genre of Movie code'].values, tf.int64),\n",
    ")\n",
    "#val X & Y\n",
    "val_text_ds_raw = tf.data.Dataset.from_tensor_slices(\n",
    "            tf.cast(valds['Text'].values, tf.string)\n",
    ") \n",
    "val_cat_ds_raw = tf.data.Dataset.from_tensor_slices(\n",
    "            tf.cast(valds['Genre of Movie code'].values, tf.int64),\n",
    ")"
   ]
  },
  {
   "cell_type": "markdown",
   "id": "af89bff5",
   "metadata": {},
   "source": [
    "Create Datasets (X=Preprocessed Text, Y=Encoded Categories)"
   ]
  },
  {
   "cell_type": "code",
   "execution_count": null,
   "id": "adabd850",
   "metadata": {},
   "outputs": [],
   "source": [
    "train_ds = tf.data.Dataset.zip(\n",
    "    (\n",
    "            train_text_ds_raw,\n",
    "            train_cat_ds_raw\n",
    "     )\n",
    ")\n",
    "test_ds = tf.data.Dataset.zip(\n",
    "    (\n",
    "            test_text_ds_raw,\n",
    "            test_cat_ds_raw\n",
    "     )\n",
    ")\n",
    "val_ds = tf.data.Dataset.zip(\n",
    "    (\n",
    "            val_text_ds_raw,\n",
    "            val_cat_ds_raw\n",
    "     )\n",
    ")"
   ]
  },
  {
   "cell_type": "markdown",
   "id": "f01c0af5",
   "metadata": {},
   "source": [
    "Create Data Pipelines (Batching, Shuffling, and Optimizing)"
   ]
  },
  {
   "cell_type": "code",
   "execution_count": null,
   "id": "204bc14c",
   "metadata": {},
   "outputs": [],
   "source": [
    "batch_size = 3\n",
    "AUTOTUNE = tf.data.experimental.AUTOTUNE\n",
    "buffer_size=train_ds.cardinality().numpy()\n",
    "\n",
    "train_ds = train_ds.shuffle(buffer_size=buffer_size)\\\n",
    "                   .batch(batch_size=batch_size,drop_remainder=True)\\\n",
    "                   .cache()\\\n",
    "                   .prefetch(AUTOTUNE)\n",
    "\n",
    "test_ds = test_ds.shuffle(buffer_size=buffer_size)\\\n",
    "                   .batch(batch_size=batch_size,drop_remainder=True)\\\n",
    "                   .cache()\\\n",
    "                   .prefetch(AUTOTUNE)\n",
    "\n",
    "\n",
    "val_ds = val_ds.shuffle(buffer_size=buffer_size)\\\n",
    "                   .batch(batch_size=batch_size,drop_remainder=True)\\\n",
    "                   .cache()\\\n",
    "                   .prefetch(AUTOTUNE)"
   ]
  },
  {
   "cell_type": "code",
   "execution_count": null,
   "id": "f4978880",
   "metadata": {},
   "outputs": [],
   "source": [
    "data.info()"
   ]
  },
  {
   "cell_type": "markdown",
   "id": "3459d30a",
   "metadata": {},
   "source": [
    "Create The Text Encoder"
   ]
  },
  {
   "cell_type": "markdown",
   "id": "a5eee830",
   "metadata": {},
   "source": [
    "The raw text loaded by `tfds` needs to be processed before it can be used in a model. The simplest way to process text for training is using the `experimental.preprocessing.TextVectorization` layer. This layer has many capabilities, but this tutorial sticks to the default behavior."
   ]
  },
  {
   "cell_type": "markdown",
   "id": "728dc810",
   "metadata": {},
   "source": [
    "Create the layer, and pass the dataset's text to the layer's `.adapt` method:\n",
    "The processing of each sample contains the following steps:\n",
    "\n",
    "    standardize each sample (usually lowercasing + punctuation stripping)\n",
    "    split each sample into substrings (usually words)\n",
    "    recombine substrings into tokens (usually ngrams)\n",
    "    index tokens (associate a unique int value with each token)\n",
    "    transform each sample using this index, either into a vector of ints or a dense float vector."
   ]
  },
  {
   "cell_type": "code",
   "execution_count": null,
   "id": "3c6bb740",
   "metadata": {},
   "outputs": [],
   "source": [
    "VOCAB_SIZE=5000\n",
    "encoder = tf.keras.layers.TextVectorization(\n",
    "    max_tokens=VOCAB_SIZE, standardize=\"lower_and_strip_punctuation\", pad_to_max_tokens= True)\n",
    "encoder.adapt(train_ds.map(lambda text, label: text), batch_size= None)"
   ]
  },
  {
   "cell_type": "code",
   "execution_count": null,
   "id": "118566d3",
   "metadata": {},
   "outputs": [],
   "source": [
    "vocab = np.array(encoder.get_vocabulary())\n",
    "len(vocab)"
   ]
  },
  {
   "cell_type": "code",
   "execution_count": null,
   "id": "bd541bf4",
   "metadata": {},
   "outputs": [],
   "source": [
    "vocab = np.array(encoder.get_vocabulary())\n",
    "vocab[:20]"
   ]
  },
  {
   "cell_type": "code",
   "execution_count": null,
   "id": "fe882563",
   "metadata": {},
   "outputs": [],
   "source": [
    "vocab[-20:]"
   ]
  },
  {
   "cell_type": "markdown",
   "id": "b472393a",
   "metadata": {},
   "source": [
    "View Examples of Encoded Words"
   ]
  },
  {
   "cell_type": "code",
   "execution_count": null,
   "id": "02327d52",
   "metadata": {},
   "outputs": [],
   "source": [
    "encoded_example = encoder('encanto we dont talk about bruno no no').numpy()\n",
    "encoded_example[:]"
   ]
  },
  {
   "cell_type": "code",
   "execution_count": null,
   "id": "9d3527fa",
   "metadata": {},
   "outputs": [],
   "source": [
    "len(encoder.get_vocabulary())"
   ]
  },
  {
   "cell_type": "code",
   "execution_count": null,
   "id": "befc5e2e",
   "metadata": {},
   "outputs": [],
   "source": [
    "encoder(data['Text'][0])"
   ]
  },
  {
   "cell_type": "code",
   "execution_count": null,
   "id": "6e04a3cc",
   "metadata": {},
   "outputs": [],
   "source": [
    "for example, label in train_ds.take(1):\n",
    "  print('texts: ', example.numpy()[:1])\n",
    "  print()"
   ]
  },
  {
   "cell_type": "markdown",
   "id": "b9aecbeb",
   "metadata": {},
   "source": [
    "### 2.2) Genre Classification with LSTM Models"
   ]
  },
  {
   "cell_type": "markdown",
   "id": "636ee218",
   "metadata": {},
   "source": [
    "Let's first create LSTM models that are capable of classifying movie reviews into one of four genres: 1) horror, 2) science fiction, 3) comedy, or 4) action."
   ]
  },
  {
   "cell_type": "markdown",
   "id": "fecd1651",
   "metadata": {},
   "source": [
    "#### 2.2.1) Genre Classification LSTM Model 1"
   ]
  },
  {
   "cell_type": "markdown",
   "id": "0b3f8eda",
   "metadata": {},
   "source": [
    "Build the LSTM Model. For more information about layers in keras, refer to this resource: https://www.tensorflow.org/api_docs/python/tf/keras/layers"
   ]
  },
  {
   "cell_type": "code",
   "execution_count": null,
   "id": "6463368a",
   "metadata": {},
   "outputs": [],
   "source": [
    "k.clear_session()\n",
    "num_classes=4\n",
    "model=tf.keras.Sequential([encoder\n",
    "   ,tf.keras.layers.Embedding(len(encoder.get_vocabulary()), 64, mask_zero=True)\n",
    "   ,tf.keras.layers.Bidirectional(tf.keras.layers.LSTM(64,  return_sequences=True, dropout=0.3))\n",
    "   ,tf.keras.layers.Bidirectional(tf.keras.layers.LSTM(32,dropout=0.3))\n",
    "   ,tf.keras.layers.Dense(64, activation='relu')\n",
    "   ,tf.keras.layers.Dense(num_classes,activation='softmax')  \n",
    "])"
   ]
  },
  {
   "cell_type": "code",
   "execution_count": null,
   "id": "92663481",
   "metadata": {},
   "outputs": [],
   "source": [
    "model.compile(optimizer= tf.keras.optimizers.Adam( )\n",
    "              ,loss=tf.keras.losses.SparseCategoricalCrossentropy() \n",
    "              ,metrics=['accuracy'])"
   ]
  },
  {
   "cell_type": "code",
   "execution_count": null,
   "id": "f31305f9",
   "metadata": {},
   "outputs": [],
   "source": [
    "%%time\n",
    "history = model.fit(train_ds\n",
    "         ,epochs=200\n",
    "         ,validation_data=val_ds\n",
    "         ,validation_steps=3\n",
    "         ,callbacks=[tf.keras.callbacks.EarlyStopping(monitor='val_accuracy', patience=2)])"
   ]
  },
  {
   "cell_type": "markdown",
   "id": "8b29899d",
   "metadata": {},
   "source": [
    "View a Summary of the LSTM Model Architecture"
   ]
  },
  {
   "cell_type": "code",
   "execution_count": null,
   "id": "9df2a7e0",
   "metadata": {},
   "outputs": [],
   "source": [
    "model.summary()"
   ]
  },
  {
   "cell_type": "markdown",
   "id": "107d8797",
   "metadata": {},
   "source": [
    "Assess Model's Performance Using Performance Metrics"
   ]
  },
  {
   "cell_type": "code",
   "execution_count": null,
   "id": "de682a40",
   "metadata": {},
   "outputs": [],
   "source": [
    "test_loss, test_acc = model.evaluate(test_ds)\n",
    "\n",
    "print('Test Loss: {}'.format(test_loss))\n",
    "print('Test Accuracy: {}'.format(test_acc))"
   ]
  },
  {
   "cell_type": "code",
   "execution_count": null,
   "id": "9ea0c6ec",
   "metadata": {},
   "outputs": [],
   "source": [
    "history_dict = history.history\n",
    "history_dict.keys()"
   ]
  },
  {
   "cell_type": "code",
   "execution_count": null,
   "id": "e894bdc7",
   "metadata": {},
   "outputs": [],
   "source": [
    "history_df=pd.DataFrame(history_dict)\n",
    "history_df.tail().round(3)"
   ]
  },
  {
   "cell_type": "code",
   "execution_count": null,
   "id": "65a87773",
   "metadata": {},
   "outputs": [],
   "source": [
    "losses = history.history['loss']\n",
    "accs = history.history['accuracy']\n",
    "val_losses = history.history['val_loss']\n",
    "val_accs = history.history['val_accuracy']\n",
    "epochs = len(losses)"
   ]
  },
  {
   "cell_type": "code",
   "execution_count": null,
   "id": "4cd37738",
   "metadata": {},
   "outputs": [],
   "source": [
    "plt.subplots(figsize=(16,12))\n",
    "plt.tight_layout()\n",
    "display_training_curves(history.history['accuracy'], history.history['val_accuracy'], 'accuracy', 211)\n",
    "display_training_curves(history.history['loss'], history.history['val_loss'], 'loss', 212)"
   ]
  },
  {
   "cell_type": "markdown",
   "id": "e05de0e6",
   "metadata": {},
   "source": [
    "Assess the Model's Performance Using Confusion Matrix"
   ]
  },
  {
   "cell_type": "code",
   "execution_count": null,
   "id": "c31d0a78",
   "metadata": {},
   "outputs": [],
   "source": [
    "preds2 = model.predict(test_ds)\n",
    "y_pred2 = np.argmax(preds2, axis=1)\n",
    "y2 = np.concatenate([y for x, y in test_ds], axis=0)"
   ]
  },
  {
   "cell_type": "code",
   "execution_count": null,
   "id": "456dd4fd",
   "metadata": {},
   "outputs": [],
   "source": [
    "CLASSES_LIST = ['Action','Comedy','Horror','Sci Fi']"
   ]
  },
  {
   "cell_type": "code",
   "execution_count": null,
   "id": "b9ca9ead",
   "metadata": {},
   "outputs": [],
   "source": [
    "plot_confusion_matrix_labeled(y2,y_pred2, CLASSES_LIST=CLASSES_LIST)"
   ]
  },
  {
   "cell_type": "code",
   "execution_count": null,
   "id": "cc795586",
   "metadata": {},
   "outputs": [],
   "source": [
    "cm = sns.light_palette((260, 75, 60), input=\"husl\", as_cmap=True)"
   ]
  },
  {
   "cell_type": "code",
   "execution_count": null,
   "id": "8d5a0673",
   "metadata": {},
   "outputs": [],
   "source": [
    "df2 = pd.DataFrame(preds2[0:15]\n",
    "                  ,columns = CLASSES_LIST).T\n",
    "df2.style.format(\"{:.2%}\").background_gradient(cmap=cm)"
   ]
  },
  {
   "cell_type": "markdown",
   "id": "75c5fdc9",
   "metadata": {},
   "source": [
    "#### 2.2.2) Genre Classification LSTM Model 2"
   ]
  },
  {
   "cell_type": "code",
   "execution_count": null,
   "id": "1e75861d",
   "metadata": {},
   "outputs": [],
   "source": []
  },
  {
   "cell_type": "code",
   "execution_count": null,
   "id": "a3d9d3ec",
   "metadata": {},
   "outputs": [],
   "source": []
  },
  {
   "cell_type": "code",
   "execution_count": null,
   "id": "34e920d7",
   "metadata": {},
   "outputs": [],
   "source": []
  },
  {
   "cell_type": "markdown",
   "id": "c470f0eb",
   "metadata": {},
   "source": [
    "#### 2.2.3) Genre Classification LSTM Model 3"
   ]
  },
  {
   "cell_type": "code",
   "execution_count": null,
   "id": "87a4d7bc",
   "metadata": {},
   "outputs": [],
   "source": []
  },
  {
   "cell_type": "code",
   "execution_count": null,
   "id": "4d5c4d71",
   "metadata": {},
   "outputs": [],
   "source": []
  },
  {
   "cell_type": "code",
   "execution_count": null,
   "id": "1d214dbc",
   "metadata": {},
   "outputs": [],
   "source": []
  },
  {
   "cell_type": "markdown",
   "id": "3c514f75",
   "metadata": {},
   "source": [
    "#### 2.2.4) Genre Classification LSTM Model 4"
   ]
  },
  {
   "cell_type": "code",
   "execution_count": null,
   "id": "94de8cb5",
   "metadata": {},
   "outputs": [],
   "source": []
  },
  {
   "cell_type": "code",
   "execution_count": null,
   "id": "30de8342",
   "metadata": {},
   "outputs": [],
   "source": []
  },
  {
   "cell_type": "code",
   "execution_count": null,
   "id": "ececbe24",
   "metadata": {},
   "outputs": [],
   "source": []
  },
  {
   "cell_type": "markdown",
   "id": "f339aac5",
   "metadata": {},
   "source": [
    "### 2.3) Sentiment Analysis and Classification with LSTM Models"
   ]
  },
  {
   "cell_type": "markdown",
   "id": "fbd79cf6",
   "metadata": {},
   "source": [
    "Let's now turn our attention toward creating LSTM models capable of classifying movie reviews as having either positive or negative sentiments."
   ]
  },
  {
   "cell_type": "markdown",
   "id": "c53c77f6",
   "metadata": {},
   "source": [
    "#### 2.3.1) Sentiment Classification LSTM Model 1"
   ]
  },
  {
   "cell_type": "code",
   "execution_count": null,
   "id": "55bd2f43",
   "metadata": {},
   "outputs": [],
   "source": []
  },
  {
   "cell_type": "code",
   "execution_count": null,
   "id": "bb37eb6e",
   "metadata": {},
   "outputs": [],
   "source": []
  },
  {
   "cell_type": "code",
   "execution_count": null,
   "id": "1d9bb6cc",
   "metadata": {},
   "outputs": [],
   "source": []
  },
  {
   "cell_type": "markdown",
   "id": "5e4e74d0",
   "metadata": {},
   "source": [
    "#### 2.3.2) Sentiment Classification LSTM Model 2"
   ]
  },
  {
   "cell_type": "code",
   "execution_count": null,
   "id": "8b309fd5",
   "metadata": {},
   "outputs": [],
   "source": []
  },
  {
   "cell_type": "code",
   "execution_count": null,
   "id": "18592c5a",
   "metadata": {},
   "outputs": [],
   "source": []
  },
  {
   "cell_type": "code",
   "execution_count": null,
   "id": "2783e774",
   "metadata": {},
   "outputs": [],
   "source": []
  },
  {
   "cell_type": "markdown",
   "id": "956f4ff4",
   "metadata": {},
   "source": [
    "#### 2.3.3) Sentiment Classification LSTM Model 3"
   ]
  },
  {
   "cell_type": "code",
   "execution_count": null,
   "id": "0678dd8d",
   "metadata": {},
   "outputs": [],
   "source": []
  },
  {
   "cell_type": "code",
   "execution_count": null,
   "id": "e1204191",
   "metadata": {},
   "outputs": [],
   "source": []
  },
  {
   "cell_type": "code",
   "execution_count": null,
   "id": "31dfb371",
   "metadata": {},
   "outputs": [],
   "source": []
  },
  {
   "cell_type": "markdown",
   "id": "beac0d86",
   "metadata": {},
   "source": [
    "#### Sentiment Classification LSTM Model 4"
   ]
  },
  {
   "cell_type": "code",
   "execution_count": null,
   "id": "8bcc8d65",
   "metadata": {},
   "outputs": [],
   "source": []
  },
  {
   "cell_type": "code",
   "execution_count": null,
   "id": "863567bd",
   "metadata": {},
   "outputs": [],
   "source": []
  },
  {
   "cell_type": "code",
   "execution_count": null,
   "id": "ed821df3",
   "metadata": {},
   "outputs": [],
   "source": []
  }
 ],
 "metadata": {
  "kernelspec": {
   "display_name": "Python 3 (ipykernel)",
   "language": "python",
   "name": "python3"
  },
  "language_info": {
   "codemirror_mode": {
    "name": "ipython",
    "version": 3
   },
   "file_extension": ".py",
   "mimetype": "text/x-python",
   "name": "python",
   "nbconvert_exporter": "python",
   "pygments_lexer": "ipython3",
   "version": "3.9.12"
  }
 },
 "nbformat": 4,
 "nbformat_minor": 5
}
